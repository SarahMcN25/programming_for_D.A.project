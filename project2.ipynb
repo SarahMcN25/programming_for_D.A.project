{
 "cells": [
  {
   "cell_type": "markdown",
   "id": "06f85215",
   "metadata": {},
   "source": [
    "# Vaccination Rollout\n",
    "https://data.gov.ie/dataset/covid-19-hse-weekly-vaccination-figures?package_type=dataset\n",
    "***"
   ]
  },
  {
   "cell_type": "markdown",
   "id": "949f3801",
   "metadata": {},
   "source": [
    "https://ourworldindata.org/explorers/coronavirus-data-explorer?facet=none&pickerSort=asc&pickerMetric=location&Metric=People+fully+vaccinated&Interval=7-day+rolling+average&Relative+to+Population=true&Align+outbreaks=false&country=AUT~BEL~BGR~HRV~CYP~CZE~DNK~EST~FIN~FRA~DEU~GRC~HUN~IRL~ITA~LVA~LTU~LUX~MLT~NLD~POL~PRT~ROU~SVK~SVN~ESP~SWE"
   ]
  },
  {
   "cell_type": "markdown",
   "id": "066fe224",
   "metadata": {},
   "source": [
    "https://ourworldindata.org/covid-vaccinations"
   ]
  },
  {
   "cell_type": "markdown",
   "id": "7b164267",
   "metadata": {},
   "source": [
    "### countries in eu\n",
    "https://www.worldometers.info/population/countries-in-the-eu-by-population/"
   ]
  },
  {
   "cell_type": "code",
   "execution_count": null,
   "id": "2c11e830",
   "metadata": {},
   "outputs": [],
   "source": []
  },
  {
   "cell_type": "markdown",
   "id": "40c42749",
   "metadata": {},
   "source": [
    "# Variables\n",
    "***"
   ]
  },
  {
   "cell_type": "markdown",
   "id": "3a86cf64",
   "metadata": {},
   "source": [
    "### Investigate the types of variables involved, their likely distributions, and their relationships with each other."
   ]
  },
  {
   "cell_type": "markdown",
   "id": "7c5785c7",
   "metadata": {},
   "source": [
    "1. supply\n",
    "\n",
    "2. demand/country/population\n",
    "\n",
    "3. type of vaccines avialable\n",
    "\n",
    "4. distribution of vaccine\n"
   ]
  },
  {
   "cell_type": "code",
   "execution_count": null,
   "id": "2b88a6b2",
   "metadata": {},
   "outputs": [],
   "source": []
  },
  {
   "cell_type": "code",
   "execution_count": null,
   "id": "debf2c37",
   "metadata": {},
   "outputs": [],
   "source": []
  },
  {
   "cell_type": "code",
   "execution_count": null,
   "id": "d75e1ce9",
   "metadata": {},
   "outputs": [],
   "source": []
  },
  {
   "cell_type": "code",
   "execution_count": null,
   "id": "2102d893",
   "metadata": {},
   "outputs": [],
   "source": []
  },
  {
   "cell_type": "code",
   "execution_count": null,
   "id": "b1de75fa",
   "metadata": {},
   "outputs": [],
   "source": []
  },
  {
   "cell_type": "code",
   "execution_count": null,
   "id": "ca50fa46",
   "metadata": {},
   "outputs": [],
   "source": []
  },
  {
   "cell_type": "code",
   "execution_count": null,
   "id": "48a8b161",
   "metadata": {},
   "outputs": [],
   "source": []
  },
  {
   "cell_type": "markdown",
   "id": "eb71da07",
   "metadata": {},
   "source": [
    "# Relationship between variables\n",
    "***"
   ]
  },
  {
   "cell_type": "code",
   "execution_count": null,
   "id": "847907a2",
   "metadata": {},
   "outputs": [],
   "source": []
  },
  {
   "cell_type": "code",
   "execution_count": null,
   "id": "b69a0658",
   "metadata": {},
   "outputs": [],
   "source": []
  },
  {
   "cell_type": "code",
   "execution_count": null,
   "id": "95b014c9",
   "metadata": {},
   "outputs": [],
   "source": []
  },
  {
   "cell_type": "code",
   "execution_count": null,
   "id": "ed1545d8",
   "metadata": {},
   "outputs": [],
   "source": []
  },
  {
   "cell_type": "code",
   "execution_count": null,
   "id": "6de4add5",
   "metadata": {},
   "outputs": [],
   "source": []
  },
  {
   "cell_type": "code",
   "execution_count": null,
   "id": "647c1698",
   "metadata": {},
   "outputs": [],
   "source": []
  },
  {
   "cell_type": "code",
   "execution_count": null,
   "id": "977865ed",
   "metadata": {},
   "outputs": [],
   "source": []
  },
  {
   "cell_type": "code",
   "execution_count": null,
   "id": "6546e659",
   "metadata": {},
   "outputs": [],
   "source": []
  },
  {
   "cell_type": "code",
   "execution_count": null,
   "id": "3e9172f0",
   "metadata": {},
   "outputs": [],
   "source": []
  },
  {
   "cell_type": "markdown",
   "id": "c67d1b7e",
   "metadata": {},
   "source": [
    "# Simulation of dataset\n",
    "***"
   ]
  },
  {
   "cell_type": "markdown",
   "id": "fa4817a7",
   "metadata": {},
   "source": [
    "### Detail your research and implement the simulation in a Jupyter notebook – the data set itself can simply be displayed in an output cell within the notebook.\n",
    "\n",
    "***\n",
    "\n",
    "### Synthesise/simulate a data set as closely matching their properties as possible"
   ]
  },
  {
   "cell_type": "markdown",
   "id": "92b96948",
   "metadata": {},
   "source": [
    "### pandas df simulation here\n",
    "\n",
    "one-hundred data points across at least four different variables"
   ]
  },
  {
   "cell_type": "markdown",
   "id": "862eade9",
   "metadata": {},
   "source": [
    "compare vaccinated between eu countries. population, male, female, children"
   ]
  },
  {
   "cell_type": "code",
   "execution_count": 2,
   "id": "e35a2c3d",
   "metadata": {},
   "outputs": [],
   "source": [
    "# For numerical arrays. \n",
    "import numpy as np\n",
    "\n",
    "# For plotting\n",
    "import matplotlib.pyplot as plt\n",
    "\n",
    "# For dataframes\n",
    "import pandas as pd\n",
    "\n",
    "# "
   ]
  },
  {
   "cell_type": "code",
   "execution_count": 18,
   "id": "77f9e3f5",
   "metadata": {},
   "outputs": [],
   "source": [
    "data = {'country':['Austria', 'Belgium', 'Bulgaria', 'Croatia', 'Cyprus', 'Czech Republic', 'Denmark',\n",
    "           'Estonia', 'Finland', 'France', 'Germany', 'Greece', 'Hungary', 'Ireland', 'Italy', 'Latvia',\n",
    "           'Lithuania', 'Luxembourg', 'Malta', 'Netherlands', 'Poland', 'Portugal', 'Romania', 'Slovakia',\n",
    "           'Slovenia', 'Spain', 'Sweden'], 'vaccinated':[68.38, 75.06, 26.67, 49.92, 65.88, 60.49, 77.18, \n",
    "                                                         60.50, 73.56, 70.8, 68.99 germany ]}\n",
    "\n",
    "df = pd.DataFrame(data)\n"
   ]
  },
  {
   "cell_type": "code",
   "execution_count": null,
   "id": "6ce815e4",
   "metadata": {},
   "outputs": [],
   "source": []
  },
  {
   "cell_type": "markdown",
   "id": "194ca425",
   "metadata": {},
   "source": [
    "# References\n",
    "***\n",
    "All references and code used in this notebook has been sourced in Dec 2021 from the following webpages:\n",
    "\n",
    "\n",
    "- \n",
    "\n",
    "\n",
    "- \n",
    "\n"
   ]
  },
  {
   "cell_type": "markdown",
   "id": "609d8fc3",
   "metadata": {},
   "source": [
    "***\n",
    "# End"
   ]
  }
 ],
 "metadata": {
  "kernelspec": {
   "display_name": "Python 3",
   "language": "python",
   "name": "python3"
  },
  "language_info": {
   "codemirror_mode": {
    "name": "ipython",
    "version": 3
   },
   "file_extension": ".py",
   "mimetype": "text/x-python",
   "name": "python",
   "nbconvert_exporter": "python",
   "pygments_lexer": "ipython3",
   "version": "3.8.8"
  }
 },
 "nbformat": 4,
 "nbformat_minor": 5
}
