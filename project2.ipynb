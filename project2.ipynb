{
 "cells": [
  {
   "cell_type": "markdown",
   "id": "06f85215",
   "metadata": {},
   "source": [
    "# Vaccination Rollout\n",
    "https://data.gov.ie/dataset/covid-19-hse-weekly-vaccination-figures?package_type=dataset\n",
    "***"
   ]
  },
  {
   "cell_type": "markdown",
   "id": "949f3801",
   "metadata": {},
   "source": [
    "https://ourworldindata.org/explorers/coronavirus-data-explorer?facet=none&pickerSort=asc&pickerMetric=location&Metric=People+fully+vaccinated&Interval=7-day+rolling+average&Relative+to+Population=true&Align+outbreaks=false&country=AUT~BEL~BGR~HRV~CYP~CZE~DNK~EST~FIN~FRA~DEU~GRC~HUN~IRL~ITA~LVA~LTU~LUX~MLT~NLD~POL~PRT~ROU~SVK~SVN~ESP~SWE"
   ]
  },
  {
   "cell_type": "markdown",
   "id": "066fe224",
   "metadata": {},
   "source": [
    "https://ourworldindata.org/covid-vaccinations"
   ]
  },
  {
   "cell_type": "markdown",
   "id": "7b164267",
   "metadata": {},
   "source": [
    "### countries in eu\n",
    "https://www.worldometers.info/population/countries-in-the-eu-by-population/"
   ]
  },
  {
   "cell_type": "code",
   "execution_count": null,
   "id": "2c11e830",
   "metadata": {},
   "outputs": [],
   "source": []
  },
  {
   "cell_type": "markdown",
   "id": "40c42749",
   "metadata": {},
   "source": [
    "# Variables\n",
    "***"
   ]
  },
  {
   "cell_type": "markdown",
   "id": "3a86cf64",
   "metadata": {},
   "source": [
    "### Investigate the types of variables involved, their likely distributions, and their relationships with each other."
   ]
  },
  {
   "cell_type": "markdown",
   "id": "7c5785c7",
   "metadata": {},
   "source": [
    "1. supply\n",
    "\n",
    "2. demand/country/population\n",
    "\n",
    "3. type of vaccines avialable\n",
    "\n",
    "4. distribution of vaccine\n"
   ]
  },
  {
   "cell_type": "code",
   "execution_count": null,
   "id": "2b88a6b2",
   "metadata": {},
   "outputs": [],
   "source": []
  },
  {
   "cell_type": "code",
   "execution_count": null,
   "id": "debf2c37",
   "metadata": {},
   "outputs": [],
   "source": []
  },
  {
   "cell_type": "code",
   "execution_count": null,
   "id": "d75e1ce9",
   "metadata": {},
   "outputs": [],
   "source": []
  },
  {
   "cell_type": "code",
   "execution_count": null,
   "id": "2102d893",
   "metadata": {},
   "outputs": [],
   "source": []
  },
  {
   "cell_type": "code",
   "execution_count": null,
   "id": "b1de75fa",
   "metadata": {},
   "outputs": [],
   "source": []
  },
  {
   "cell_type": "code",
   "execution_count": null,
   "id": "ca50fa46",
   "metadata": {},
   "outputs": [],
   "source": []
  },
  {
   "cell_type": "code",
   "execution_count": null,
   "id": "48a8b161",
   "metadata": {},
   "outputs": [],
   "source": []
  },
  {
   "cell_type": "markdown",
   "id": "eb71da07",
   "metadata": {},
   "source": [
    "# Relationship between variables\n",
    "***"
   ]
  },
  {
   "cell_type": "code",
   "execution_count": null,
   "id": "847907a2",
   "metadata": {},
   "outputs": [],
   "source": []
  },
  {
   "cell_type": "code",
   "execution_count": null,
   "id": "b69a0658",
   "metadata": {},
   "outputs": [],
   "source": []
  },
  {
   "cell_type": "code",
   "execution_count": null,
   "id": "95b014c9",
   "metadata": {},
   "outputs": [],
   "source": []
  },
  {
   "cell_type": "code",
   "execution_count": null,
   "id": "ed1545d8",
   "metadata": {},
   "outputs": [],
   "source": []
  },
  {
   "cell_type": "code",
   "execution_count": null,
   "id": "6de4add5",
   "metadata": {},
   "outputs": [],
   "source": []
  },
  {
   "cell_type": "code",
   "execution_count": null,
   "id": "647c1698",
   "metadata": {},
   "outputs": [],
   "source": []
  },
  {
   "cell_type": "code",
   "execution_count": null,
   "id": "977865ed",
   "metadata": {},
   "outputs": [],
   "source": []
  },
  {
   "cell_type": "code",
   "execution_count": null,
   "id": "6546e659",
   "metadata": {},
   "outputs": [],
   "source": []
  },
  {
   "cell_type": "code",
   "execution_count": null,
   "id": "3e9172f0",
   "metadata": {},
   "outputs": [],
   "source": []
  },
  {
   "cell_type": "markdown",
   "id": "c67d1b7e",
   "metadata": {},
   "source": [
    "# Simulation of dataset\n",
    "***"
   ]
  },
  {
   "cell_type": "markdown",
   "id": "fa4817a7",
   "metadata": {},
   "source": [
    "### Detail your research and implement the simulation in a Jupyter notebook – the data set itself can simply be displayed in an output cell within the notebook.\n",
    "\n",
    "***\n",
    "\n",
    "### Synthesise/simulate a data set as closely matching their properties as possible"
   ]
  },
  {
   "cell_type": "markdown",
   "id": "92b96948",
   "metadata": {},
   "source": [
    "### pandas df simulation here\n",
    "\n",
    "one-hundred data points across at least four different variables"
   ]
  },
  {
   "cell_type": "markdown",
   "id": "862eade9",
   "metadata": {},
   "source": [
    "compare vaccinated between eu countries. population, male, female, children"
   ]
  },
  {
   "cell_type": "code",
   "execution_count": 1,
   "id": "e35a2c3d",
   "metadata": {},
   "outputs": [],
   "source": [
    "# For numerical arrays. \n",
    "import numpy as np\n",
    "\n",
    "# For plotting\n",
    "import matplotlib.pyplot as plt\n",
    "\n",
    "# For dataframes\n",
    "import pandas as pd\n",
    "\n",
    "# "
   ]
  },
  {
   "cell_type": "markdown",
   "id": "012b32a0",
   "metadata": {},
   "source": [
    "population as per 14dec from https://en.wikipedia.org/wiki/Demographics_of_the_European_Union\n",
    "\n",
    "vaccinated as per 14dec from https://ourworldindata.org/explorers/coronavirus-data-explorer?tab=table&facet=none&pickerSort=asc&pickerMetric=location&Metric=People+fully+vaccinated&Interval=7-day+rolling+average&Relative+to+Population=true&Align+outbreaks=false&country=~AUT\n"
   ]
  },
  {
   "cell_type": "code",
   "execution_count": 2,
   "id": "77f9e3f5",
   "metadata": {},
   "outputs": [
    {
     "data": {
      "text/html": [
       "<div>\n",
       "<style scoped>\n",
       "    .dataframe tbody tr th:only-of-type {\n",
       "        vertical-align: middle;\n",
       "    }\n",
       "\n",
       "    .dataframe tbody tr th {\n",
       "        vertical-align: top;\n",
       "    }\n",
       "\n",
       "    .dataframe thead th {\n",
       "        text-align: right;\n",
       "    }\n",
       "</style>\n",
       "<table border=\"1\" class=\"dataframe\">\n",
       "  <thead>\n",
       "    <tr style=\"text-align: right;\">\n",
       "      <th></th>\n",
       "      <th>population</th>\n",
       "      <th>%_vaccinated</th>\n",
       "      <th>%_unvaccinated</th>\n",
       "    </tr>\n",
       "    <tr>\n",
       "      <th>country</th>\n",
       "      <th></th>\n",
       "      <th></th>\n",
       "      <th></th>\n",
       "    </tr>\n",
       "  </thead>\n",
       "  <tbody>\n",
       "    <tr>\n",
       "      <th>Austria</th>\n",
       "      <td>8,772,865</td>\n",
       "      <td>68.38</td>\n",
       "      <td>31.62</td>\n",
       "    </tr>\n",
       "    <tr>\n",
       "      <th>Belgium</th>\n",
       "      <td>11,351,727</td>\n",
       "      <td>75.06</td>\n",
       "      <td>24.94</td>\n",
       "    </tr>\n",
       "    <tr>\n",
       "      <th>Bulgaria</th>\n",
       "      <td>7,101,859</td>\n",
       "      <td>26.67</td>\n",
       "      <td>73.31</td>\n",
       "    </tr>\n",
       "    <tr>\n",
       "      <th>Croatia</th>\n",
       "      <td>4,154,213</td>\n",
       "      <td>49.92</td>\n",
       "      <td>50.08</td>\n",
       "    </tr>\n",
       "    <tr>\n",
       "      <th>Cyprus</th>\n",
       "      <td>854,802</td>\n",
       "      <td>65.88</td>\n",
       "      <td>34.12</td>\n",
       "    </tr>\n",
       "    <tr>\n",
       "      <th>Czech Republic</th>\n",
       "      <td>10,578,820</td>\n",
       "      <td>60.49</td>\n",
       "      <td>39.51</td>\n",
       "    </tr>\n",
       "    <tr>\n",
       "      <th>Denmark</th>\n",
       "      <td>5,748,769</td>\n",
       "      <td>77.18</td>\n",
       "      <td>22.82</td>\n",
       "    </tr>\n",
       "    <tr>\n",
       "      <th>Estonia</th>\n",
       "      <td>1,315,635</td>\n",
       "      <td>60.50</td>\n",
       "      <td>39.50</td>\n",
       "    </tr>\n",
       "    <tr>\n",
       "      <th>Finland</th>\n",
       "      <td>5,503,297</td>\n",
       "      <td>73.56</td>\n",
       "      <td>26.44</td>\n",
       "    </tr>\n",
       "    <tr>\n",
       "      <th>France</th>\n",
       "      <td>66,989,083</td>\n",
       "      <td>70.80</td>\n",
       "      <td>29.20</td>\n",
       "    </tr>\n",
       "    <tr>\n",
       "      <th>Germany</th>\n",
       "      <td>82,521,653</td>\n",
       "      <td>68.99</td>\n",
       "      <td>31.01</td>\n",
       "    </tr>\n",
       "    <tr>\n",
       "      <th>Greece</th>\n",
       "      <td>10,768,193</td>\n",
       "      <td>65.21</td>\n",
       "      <td>34.79</td>\n",
       "    </tr>\n",
       "    <tr>\n",
       "      <th>Hungary</th>\n",
       "      <td>9,797,561</td>\n",
       "      <td>61.17</td>\n",
       "      <td>38.83</td>\n",
       "    </tr>\n",
       "    <tr>\n",
       "      <th>Ireland</th>\n",
       "      <td>4,904,226</td>\n",
       "      <td>76.43</td>\n",
       "      <td>23.57</td>\n",
       "    </tr>\n",
       "    <tr>\n",
       "      <th>Italy</th>\n",
       "      <td>60,589,445</td>\n",
       "      <td>73.37</td>\n",
       "      <td>26.63</td>\n",
       "    </tr>\n",
       "    <tr>\n",
       "      <th>Latvia</th>\n",
       "      <td>1,950,116</td>\n",
       "      <td>65.78</td>\n",
       "      <td>34.22</td>\n",
       "    </tr>\n",
       "    <tr>\n",
       "      <th>Lithuania</th>\n",
       "      <td>2,847,904</td>\n",
       "      <td>67.06</td>\n",
       "      <td>32.94</td>\n",
       "    </tr>\n",
       "    <tr>\n",
       "      <th>Luxembourg</th>\n",
       "      <td>590,667</td>\n",
       "      <td>67.69</td>\n",
       "      <td>32.31</td>\n",
       "    </tr>\n",
       "    <tr>\n",
       "      <th>Malta</th>\n",
       "      <td>467,988</td>\n",
       "      <td>84.08</td>\n",
       "      <td>15.92</td>\n",
       "    </tr>\n",
       "    <tr>\n",
       "      <th>Netherlands</th>\n",
       "      <td>17,081,507</td>\n",
       "      <td>74.37</td>\n",
       "      <td>25.63</td>\n",
       "    </tr>\n",
       "    <tr>\n",
       "      <th>Poland</th>\n",
       "      <td>37,972,964</td>\n",
       "      <td>54.73</td>\n",
       "      <td>45.27</td>\n",
       "    </tr>\n",
       "    <tr>\n",
       "      <th>Portugal</th>\n",
       "      <td>10,309,573</td>\n",
       "      <td>88.81</td>\n",
       "      <td>11.19</td>\n",
       "    </tr>\n",
       "    <tr>\n",
       "      <th>Romania</th>\n",
       "      <td>19,644,350</td>\n",
       "      <td>39.88</td>\n",
       "      <td>60.12</td>\n",
       "    </tr>\n",
       "    <tr>\n",
       "      <th>Slovakia</th>\n",
       "      <td>5,435,343</td>\n",
       "      <td>43.32</td>\n",
       "      <td>56.68</td>\n",
       "    </tr>\n",
       "    <tr>\n",
       "      <th>Slovenia</th>\n",
       "      <td>2,065,895</td>\n",
       "      <td>56.30</td>\n",
       "      <td>43.70</td>\n",
       "    </tr>\n",
       "    <tr>\n",
       "      <th>Spain</th>\n",
       "      <td>46,528,966</td>\n",
       "      <td>80.66</td>\n",
       "      <td>19.34</td>\n",
       "    </tr>\n",
       "    <tr>\n",
       "      <th>Sweden</th>\n",
       "      <td>9,995,153</td>\n",
       "      <td>71.46</td>\n",
       "      <td>28.54</td>\n",
       "    </tr>\n",
       "  </tbody>\n",
       "</table>\n",
       "</div>"
      ],
      "text/plain": [
       "                population  %_vaccinated  %_unvaccinated\n",
       "country                                                 \n",
       "Austria          8,772,865         68.38           31.62\n",
       "Belgium         11,351,727         75.06           24.94\n",
       "Bulgaria         7,101,859         26.67           73.31\n",
       "Croatia          4,154,213         49.92           50.08\n",
       "Cyprus             854,802         65.88           34.12\n",
       "Czech Republic  10,578,820         60.49           39.51\n",
       "Denmark          5,748,769         77.18           22.82\n",
       "Estonia          1,315,635         60.50           39.50\n",
       "Finland          5,503,297         73.56           26.44\n",
       "France          66,989,083         70.80           29.20\n",
       "Germany         82,521,653         68.99           31.01\n",
       "Greece          10,768,193         65.21           34.79\n",
       "Hungary          9,797,561         61.17           38.83\n",
       "Ireland          4,904,226         76.43           23.57\n",
       "Italy           60,589,445         73.37           26.63\n",
       "Latvia           1,950,116         65.78           34.22\n",
       "Lithuania        2,847,904         67.06           32.94\n",
       "Luxembourg         590,667         67.69           32.31\n",
       "Malta              467,988         84.08           15.92\n",
       "Netherlands     17,081,507         74.37           25.63\n",
       "Poland          37,972,964         54.73           45.27\n",
       "Portugal        10,309,573         88.81           11.19\n",
       "Romania         19,644,350         39.88           60.12\n",
       "Slovakia         5,435,343         43.32           56.68\n",
       "Slovenia         2,065,895         56.30           43.70\n",
       "Spain           46,528,966         80.66           19.34\n",
       "Sweden           9,995,153         71.46           28.54"
      ]
     },
     "execution_count": 2,
     "metadata": {},
     "output_type": "execute_result"
    }
   ],
   "source": [
    "data = {'country':['Austria', 'Belgium', 'Bulgaria', 'Croatia', 'Cyprus', 'Czech Republic', 'Denmark',\n",
    "           'Estonia', 'Finland', 'France', 'Germany', 'Greece', 'Hungary', 'Ireland', 'Italy', 'Latvia',\n",
    "           'Lithuania', 'Luxembourg', 'Malta', 'Netherlands', 'Poland', 'Portugal', 'Romania', 'Slovakia',\n",
    "           'Slovenia', 'Spain', 'Sweden'],\n",
    "        'population':['8,772,865', '11,351,727', '7,101,859', '4,154,213', '854,802', '10,578,820', '5,748,769', \n",
    "                      '1,315,635', '5,503,297', '66,989,083', '82,521,653', '10,768,193', '9,797,561', '4,904,226',\n",
    "                     '60,589,445', '1,950,116', '2,847,904', '590,667', '467,988', '17,081,507', '37,972,964', \n",
    "                     '10,309,573', '19,644,350', '5,435,343', '2,065,895', '46,528,966', '9,995,153'],\n",
    "        '%_vaccinated':[68.38, 75.06, 26.67, 49.92, 65.88, 60.49, 77.18, 60.50, 73.56, 70.80, 68.99, 65.21, \n",
    "                      61.17, 76.43, 73.37, 65.78, 67.06, 67.69, 84.08, 74.37, 54.73, 88.81, 39.88, 43.32,\n",
    "                      56.30, 80.66, 71.46],\n",
    "       '%_unvaccinated':[31.62, 24.94, 73.31, 50.08, 34.12, 39.51, 22.82, 39.50, 26.44, 29.20, 31.01, 34.79,\n",
    "                        38.83, 23.57, 26.63, 34.22, 32.94, 32.31, 15.92, 25.63, 45.27, 11.19, 60.12, 56.68,\n",
    "                        43.70, 19.34, 28.54]}\n",
    "\n",
    "df = pd.DataFrame(data)\n",
    "df.columns = ['country', 'population', '%_vaccinated', '%_unvaccinated']\n",
    "df.set_index('country', inplace=True)\n",
    "df"
   ]
  },
  {
   "cell_type": "code",
   "execution_count": 3,
   "id": "6ce815e4",
   "metadata": {},
   "outputs": [
    {
     "data": {
      "text/plain": [
       "population         object\n",
       "%_vaccinated      float64\n",
       "%_unvaccinated    float64\n",
       "dtype: object"
      ]
     },
     "execution_count": 3,
     "metadata": {},
     "output_type": "execute_result"
    }
   ],
   "source": [
    "df.dtypes"
   ]
  },
  {
   "cell_type": "code",
   "execution_count": 4,
   "id": "3047a758",
   "metadata": {},
   "outputs": [
    {
     "data": {
      "text/plain": [
       "(27, 3)"
      ]
     },
     "execution_count": 4,
     "metadata": {},
     "output_type": "execute_result"
    }
   ],
   "source": [
    "df.shape"
   ]
  },
  {
   "cell_type": "code",
   "execution_count": 5,
   "id": "f7f1b92b",
   "metadata": {},
   "outputs": [
    {
     "data": {
      "text/plain": [
       "81"
      ]
     },
     "execution_count": 5,
     "metadata": {},
     "output_type": "execute_result"
    }
   ],
   "source": [
    "df.size"
   ]
  },
  {
   "cell_type": "code",
   "execution_count": 6,
   "id": "95eb0f0d",
   "metadata": {},
   "outputs": [
    {
     "data": {
      "text/html": [
       "<div>\n",
       "<style scoped>\n",
       "    .dataframe tbody tr th:only-of-type {\n",
       "        vertical-align: middle;\n",
       "    }\n",
       "\n",
       "    .dataframe tbody tr th {\n",
       "        vertical-align: top;\n",
       "    }\n",
       "\n",
       "    .dataframe thead th {\n",
       "        text-align: right;\n",
       "    }\n",
       "</style>\n",
       "<table border=\"1\" class=\"dataframe\">\n",
       "  <thead>\n",
       "    <tr style=\"text-align: right;\">\n",
       "      <th></th>\n",
       "      <th>%_vaccinated</th>\n",
       "      <th>%_unvaccinated</th>\n",
       "    </tr>\n",
       "  </thead>\n",
       "  <tbody>\n",
       "    <tr>\n",
       "      <th>count</th>\n",
       "      <td>27.000000</td>\n",
       "      <td>27.000000</td>\n",
       "    </tr>\n",
       "    <tr>\n",
       "      <th>mean</th>\n",
       "      <td>65.472222</td>\n",
       "      <td>34.527037</td>\n",
       "    </tr>\n",
       "    <tr>\n",
       "      <th>std</th>\n",
       "      <td>13.771741</td>\n",
       "      <td>13.769574</td>\n",
       "    </tr>\n",
       "    <tr>\n",
       "      <th>min</th>\n",
       "      <td>26.670000</td>\n",
       "      <td>11.190000</td>\n",
       "    </tr>\n",
       "    <tr>\n",
       "      <th>25%</th>\n",
       "      <td>60.495000</td>\n",
       "      <td>26.035000</td>\n",
       "    </tr>\n",
       "    <tr>\n",
       "      <th>50%</th>\n",
       "      <td>67.690000</td>\n",
       "      <td>32.310000</td>\n",
       "    </tr>\n",
       "    <tr>\n",
       "      <th>75%</th>\n",
       "      <td>73.965000</td>\n",
       "      <td>39.505000</td>\n",
       "    </tr>\n",
       "    <tr>\n",
       "      <th>max</th>\n",
       "      <td>88.810000</td>\n",
       "      <td>73.310000</td>\n",
       "    </tr>\n",
       "  </tbody>\n",
       "</table>\n",
       "</div>"
      ],
      "text/plain": [
       "       %_vaccinated  %_unvaccinated\n",
       "count     27.000000       27.000000\n",
       "mean      65.472222       34.527037\n",
       "std       13.771741       13.769574\n",
       "min       26.670000       11.190000\n",
       "25%       60.495000       26.035000\n",
       "50%       67.690000       32.310000\n",
       "75%       73.965000       39.505000\n",
       "max       88.810000       73.310000"
      ]
     },
     "execution_count": 6,
     "metadata": {},
     "output_type": "execute_result"
    }
   ],
   "source": [
    "df.describe()"
   ]
  },
  {
   "cell_type": "code",
   "execution_count": 7,
   "id": "4f6ba690",
   "metadata": {},
   "outputs": [
    {
     "data": {
      "text/html": [
       "<div>\n",
       "<style scoped>\n",
       "    .dataframe tbody tr th:only-of-type {\n",
       "        vertical-align: middle;\n",
       "    }\n",
       "\n",
       "    .dataframe tbody tr th {\n",
       "        vertical-align: top;\n",
       "    }\n",
       "\n",
       "    .dataframe thead th {\n",
       "        text-align: right;\n",
       "    }\n",
       "</style>\n",
       "<table border=\"1\" class=\"dataframe\">\n",
       "  <thead>\n",
       "    <tr style=\"text-align: right;\">\n",
       "      <th></th>\n",
       "      <th>population</th>\n",
       "      <th>%_vaccinated</th>\n",
       "      <th>%_unvaccinated</th>\n",
       "    </tr>\n",
       "    <tr>\n",
       "      <th>country</th>\n",
       "      <th></th>\n",
       "      <th></th>\n",
       "      <th></th>\n",
       "    </tr>\n",
       "  </thead>\n",
       "  <tbody>\n",
       "    <tr>\n",
       "      <th>Austria</th>\n",
       "      <td>8,772,865</td>\n",
       "      <td>68.38</td>\n",
       "      <td>31.62</td>\n",
       "    </tr>\n",
       "    <tr>\n",
       "      <th>Belgium</th>\n",
       "      <td>11,351,727</td>\n",
       "      <td>75.06</td>\n",
       "      <td>24.94</td>\n",
       "    </tr>\n",
       "    <tr>\n",
       "      <th>Bulgaria</th>\n",
       "      <td>7,101,859</td>\n",
       "      <td>26.67</td>\n",
       "      <td>73.31</td>\n",
       "    </tr>\n",
       "    <tr>\n",
       "      <th>Croatia</th>\n",
       "      <td>4,154,213</td>\n",
       "      <td>49.92</td>\n",
       "      <td>50.08</td>\n",
       "    </tr>\n",
       "    <tr>\n",
       "      <th>Cyprus</th>\n",
       "      <td>854,802</td>\n",
       "      <td>65.88</td>\n",
       "      <td>34.12</td>\n",
       "    </tr>\n",
       "  </tbody>\n",
       "</table>\n",
       "</div>"
      ],
      "text/plain": [
       "          population  %_vaccinated  %_unvaccinated\n",
       "country                                           \n",
       "Austria    8,772,865         68.38           31.62\n",
       "Belgium   11,351,727         75.06           24.94\n",
       "Bulgaria   7,101,859         26.67           73.31\n",
       "Croatia    4,154,213         49.92           50.08\n",
       "Cyprus       854,802         65.88           34.12"
      ]
     },
     "execution_count": 7,
     "metadata": {},
     "output_type": "execute_result"
    }
   ],
   "source": [
    "df.head()"
   ]
  },
  {
   "cell_type": "code",
   "execution_count": 8,
   "id": "85dcb471",
   "metadata": {},
   "outputs": [
    {
     "data": {
      "text/html": [
       "<div>\n",
       "<style scoped>\n",
       "    .dataframe tbody tr th:only-of-type {\n",
       "        vertical-align: middle;\n",
       "    }\n",
       "\n",
       "    .dataframe tbody tr th {\n",
       "        vertical-align: top;\n",
       "    }\n",
       "\n",
       "    .dataframe thead th {\n",
       "        text-align: right;\n",
       "    }\n",
       "</style>\n",
       "<table border=\"1\" class=\"dataframe\">\n",
       "  <thead>\n",
       "    <tr style=\"text-align: right;\">\n",
       "      <th></th>\n",
       "      <th>population</th>\n",
       "      <th>%_vaccinated</th>\n",
       "      <th>%_unvaccinated</th>\n",
       "    </tr>\n",
       "    <tr>\n",
       "      <th>country</th>\n",
       "      <th></th>\n",
       "      <th></th>\n",
       "      <th></th>\n",
       "    </tr>\n",
       "  </thead>\n",
       "  <tbody>\n",
       "    <tr>\n",
       "      <th>Romania</th>\n",
       "      <td>19,644,350</td>\n",
       "      <td>39.88</td>\n",
       "      <td>60.12</td>\n",
       "    </tr>\n",
       "    <tr>\n",
       "      <th>Slovakia</th>\n",
       "      <td>5,435,343</td>\n",
       "      <td>43.32</td>\n",
       "      <td>56.68</td>\n",
       "    </tr>\n",
       "    <tr>\n",
       "      <th>Slovenia</th>\n",
       "      <td>2,065,895</td>\n",
       "      <td>56.30</td>\n",
       "      <td>43.70</td>\n",
       "    </tr>\n",
       "    <tr>\n",
       "      <th>Spain</th>\n",
       "      <td>46,528,966</td>\n",
       "      <td>80.66</td>\n",
       "      <td>19.34</td>\n",
       "    </tr>\n",
       "    <tr>\n",
       "      <th>Sweden</th>\n",
       "      <td>9,995,153</td>\n",
       "      <td>71.46</td>\n",
       "      <td>28.54</td>\n",
       "    </tr>\n",
       "  </tbody>\n",
       "</table>\n",
       "</div>"
      ],
      "text/plain": [
       "          population  %_vaccinated  %_unvaccinated\n",
       "country                                           \n",
       "Romania   19,644,350         39.88           60.12\n",
       "Slovakia   5,435,343         43.32           56.68\n",
       "Slovenia   2,065,895         56.30           43.70\n",
       "Spain     46,528,966         80.66           19.34\n",
       "Sweden     9,995,153         71.46           28.54"
      ]
     },
     "execution_count": 8,
     "metadata": {},
     "output_type": "execute_result"
    }
   ],
   "source": [
    "df.tail()"
   ]
  },
  {
   "cell_type": "code",
   "execution_count": 9,
   "id": "07b39abb",
   "metadata": {},
   "outputs": [
    {
     "data": {
      "text/plain": [
       "population        1,315,635\n",
       "%_vaccinated          26.67\n",
       "%_unvaccinated        11.19\n",
       "dtype: object"
      ]
     },
     "execution_count": 9,
     "metadata": {},
     "output_type": "execute_result"
    }
   ],
   "source": [
    "df.min()"
   ]
  },
  {
   "cell_type": "code",
   "execution_count": 10,
   "id": "d8b5637f",
   "metadata": {},
   "outputs": [
    {
     "data": {
      "text/plain": [
       "population        9,995,153\n",
       "%_vaccinated          88.81\n",
       "%_unvaccinated        73.31\n",
       "dtype: object"
      ]
     },
     "execution_count": 10,
     "metadata": {},
     "output_type": "execute_result"
    }
   ],
   "source": [
    "df.max()"
   ]
  },
  {
   "cell_type": "code",
   "execution_count": 11,
   "id": "24d1eee9",
   "metadata": {},
   "outputs": [
    {
     "data": {
      "text/plain": [
       "population        4,904,226\n",
       "%_vaccinated          76.43\n",
       "%_unvaccinated        23.57\n",
       "Name: Ireland, dtype: object"
      ]
     },
     "execution_count": 11,
     "metadata": {},
     "output_type": "execute_result"
    }
   ],
   "source": [
    "df.loc['Ireland']"
   ]
  },
  {
   "cell_type": "code",
   "execution_count": 12,
   "id": "aa07d9f9",
   "metadata": {},
   "outputs": [
    {
     "ename": "SyntaxError",
     "evalue": "invalid syntax (<ipython-input-12-814d30f986a2>, line 1)",
     "output_type": "error",
     "traceback": [
      "\u001b[1;36m  File \u001b[1;32m\"<ipython-input-12-814d30f986a2>\"\u001b[1;36m, line \u001b[1;32m1\u001b[0m\n\u001b[1;33m    df.query[]\u001b[0m\n\u001b[1;37m             ^\u001b[0m\n\u001b[1;31mSyntaxError\u001b[0m\u001b[1;31m:\u001b[0m invalid syntax\n"
     ]
    }
   ],
   "source": [
    "df.query[]"
   ]
  },
  {
   "cell_type": "markdown",
   "id": "194ca425",
   "metadata": {},
   "source": [
    "# References\n",
    "***\n",
    "All references and code used in this notebook has been sourced in Dec 2021 from the following webpages:\n",
    "\n",
    "\n",
    "- \n",
    "\n",
    "\n",
    "- \n",
    "\n"
   ]
  },
  {
   "cell_type": "markdown",
   "id": "609d8fc3",
   "metadata": {},
   "source": [
    "***\n",
    "# End"
   ]
  }
 ],
 "metadata": {
  "kernelspec": {
   "display_name": "Python 3",
   "language": "python",
   "name": "python3"
  },
  "language_info": {
   "codemirror_mode": {
    "name": "ipython",
    "version": 3
   },
   "file_extension": ".py",
   "mimetype": "text/x-python",
   "name": "python",
   "nbconvert_exporter": "python",
   "pygments_lexer": "ipython3",
   "version": "3.8.8"
  }
 },
 "nbformat": 4,
 "nbformat_minor": 5
}
