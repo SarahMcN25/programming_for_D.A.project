{
 "cells": [
  {
   "cell_type": "markdown",
   "id": "06f85215",
   "metadata": {},
   "source": [
    "# Vaccination Rollout\n",
    "https://data.gov.ie/dataset/covid-19-hse-weekly-vaccination-figures?package_type=dataset\n",
    "***"
   ]
  },
  {
   "cell_type": "markdown",
   "id": "949f3801",
   "metadata": {},
   "source": [
    "https://ourworldindata.org/explorers/coronavirus-data-explorer?facet=none&pickerSort=asc&pickerMetric=location&Metric=People+fully+vaccinated&Interval=7-day+rolling+average&Relative+to+Population=true&Align+outbreaks=false&country=AUT~BEL~BGR~HRV~CYP~CZE~DNK~EST~FIN~FRA~DEU~GRC~HUN~IRL~ITA~LVA~LTU~LUX~MLT~NLD~POL~PRT~ROU~SVK~SVN~ESP~SWE"
   ]
  },
  {
   "cell_type": "markdown",
   "id": "066fe224",
   "metadata": {},
   "source": [
    "https://ourworldindata.org/covid-vaccinations"
   ]
  },
  {
   "cell_type": "markdown",
   "id": "7b164267",
   "metadata": {},
   "source": [
    "### countries in eu\n",
    "https://www.worldometers.info/population/countries-in-the-eu-by-population/"
   ]
  },
  {
   "cell_type": "code",
   "execution_count": null,
   "id": "2c11e830",
   "metadata": {},
   "outputs": [],
   "source": []
  },
  {
   "cell_type": "markdown",
   "id": "40c42749",
   "metadata": {},
   "source": [
    "# Variables\n",
    "***"
   ]
  },
  {
   "cell_type": "markdown",
   "id": "3a86cf64",
   "metadata": {},
   "source": [
    "### Investigate the types of variables involved, their likely distributions, and their relationships with each other."
   ]
  },
  {
   "cell_type": "markdown",
   "id": "7c5785c7",
   "metadata": {},
   "source": [
    "1. supply\n",
    "\n",
    "2. demand/country/population\n",
    "\n",
    "3. type of vaccines avialable\n",
    "\n",
    "4. distribution of vaccine\n"
   ]
  },
  {
   "cell_type": "code",
   "execution_count": null,
   "id": "2b88a6b2",
   "metadata": {},
   "outputs": [],
   "source": []
  },
  {
   "cell_type": "code",
   "execution_count": null,
   "id": "debf2c37",
   "metadata": {},
   "outputs": [],
   "source": []
  },
  {
   "cell_type": "code",
   "execution_count": null,
   "id": "d75e1ce9",
   "metadata": {},
   "outputs": [],
   "source": []
  },
  {
   "cell_type": "code",
   "execution_count": null,
   "id": "2102d893",
   "metadata": {},
   "outputs": [],
   "source": []
  },
  {
   "cell_type": "code",
   "execution_count": null,
   "id": "b1de75fa",
   "metadata": {},
   "outputs": [],
   "source": []
  },
  {
   "cell_type": "code",
   "execution_count": null,
   "id": "ca50fa46",
   "metadata": {},
   "outputs": [],
   "source": []
  },
  {
   "cell_type": "code",
   "execution_count": null,
   "id": "48a8b161",
   "metadata": {},
   "outputs": [],
   "source": []
  },
  {
   "cell_type": "markdown",
   "id": "eb71da07",
   "metadata": {},
   "source": [
    "# Relationship between variables\n",
    "***"
   ]
  },
  {
   "cell_type": "code",
   "execution_count": null,
   "id": "847907a2",
   "metadata": {},
   "outputs": [],
   "source": []
  },
  {
   "cell_type": "code",
   "execution_count": null,
   "id": "b69a0658",
   "metadata": {},
   "outputs": [],
   "source": []
  },
  {
   "cell_type": "code",
   "execution_count": null,
   "id": "95b014c9",
   "metadata": {},
   "outputs": [],
   "source": []
  },
  {
   "cell_type": "code",
   "execution_count": null,
   "id": "ed1545d8",
   "metadata": {},
   "outputs": [],
   "source": []
  },
  {
   "cell_type": "code",
   "execution_count": null,
   "id": "6de4add5",
   "metadata": {},
   "outputs": [],
   "source": []
  },
  {
   "cell_type": "code",
   "execution_count": null,
   "id": "647c1698",
   "metadata": {},
   "outputs": [],
   "source": []
  },
  {
   "cell_type": "code",
   "execution_count": null,
   "id": "977865ed",
   "metadata": {},
   "outputs": [],
   "source": []
  },
  {
   "cell_type": "code",
   "execution_count": null,
   "id": "6546e659",
   "metadata": {},
   "outputs": [],
   "source": []
  },
  {
   "cell_type": "code",
   "execution_count": null,
   "id": "3e9172f0",
   "metadata": {},
   "outputs": [],
   "source": []
  },
  {
   "cell_type": "markdown",
   "id": "c67d1b7e",
   "metadata": {},
   "source": [
    "# Simulation of dataset\n",
    "***"
   ]
  },
  {
   "cell_type": "markdown",
   "id": "fa4817a7",
   "metadata": {},
   "source": [
    "### Detail your research and implement the simulation in a Jupyter notebook – the data set itself can simply be displayed in an output cell within the notebook.\n",
    "\n",
    "***\n",
    "\n",
    "### Synthesise/simulate a data set as closely matching their properties as possible"
   ]
  },
  {
   "cell_type": "markdown",
   "id": "92b96948",
   "metadata": {},
   "source": [
    "### pandas df simulation here\n",
    "\n",
    "one-hundred data points across at least four different variables"
   ]
  },
  {
   "cell_type": "markdown",
   "id": "862eade9",
   "metadata": {},
   "source": [
    "compare vaccinated between eu countries. population, male, female, children"
   ]
  },
  {
   "cell_type": "code",
   "execution_count": 1,
   "id": "e35a2c3d",
   "metadata": {},
   "outputs": [],
   "source": [
    "# For numerical arrays. \n",
    "import numpy as np\n",
    "\n",
    "# For plotting\n",
    "import matplotlib.pyplot as plt\n",
    "\n",
    "# For dataframes\n",
    "import pandas as pd\n",
    "\n",
    "# "
   ]
  },
  {
   "cell_type": "markdown",
   "id": "012b32a0",
   "metadata": {},
   "source": [
    "population as per 14dec from https://en.wikipedia.org/wiki/Demographics_of_the_European_Union\n",
    "\n",
    "vaccinated as per 14dec from https://ourworldindata.org/explorers/coronavirus-data-explorer?tab=table&facet=none&pickerSort=asc&pickerMetric=location&Metric=People+fully+vaccinated&Interval=7-day+rolling+average&Relative+to+Population=true&Align+outbreaks=false&country=~AUT\n"
   ]
  },
  {
   "cell_type": "markdown",
   "id": "f130da1c",
   "metadata": {},
   "source": [
    "type of vaccines ireland https://covid-19.geohive.ie/pages/vaccinations"
   ]
  },
  {
   "cell_type": "code",
   "execution_count": 35,
   "id": "77f9e3f5",
   "metadata": {},
   "outputs": [
    {
     "data": {
      "text/html": [
       "<div>\n",
       "<style scoped>\n",
       "    .dataframe tbody tr th:only-of-type {\n",
       "        vertical-align: middle;\n",
       "    }\n",
       "\n",
       "    .dataframe tbody tr th {\n",
       "        vertical-align: top;\n",
       "    }\n",
       "\n",
       "    .dataframe thead th {\n",
       "        text-align: right;\n",
       "    }\n",
       "</style>\n",
       "<table border=\"1\" class=\"dataframe\">\n",
       "  <thead>\n",
       "    <tr style=\"text-align: right;\">\n",
       "      <th></th>\n",
       "      <th>population</th>\n",
       "      <th>reported_cases</th>\n",
       "      <th>%fully_vaccinated</th>\n",
       "      <th>%partially_vaccinated</th>\n",
       "      <th>%_unvaccinated</th>\n",
       "    </tr>\n",
       "    <tr>\n",
       "      <th>country</th>\n",
       "      <th></th>\n",
       "      <th></th>\n",
       "      <th></th>\n",
       "      <th></th>\n",
       "      <th></th>\n",
       "    </tr>\n",
       "  </thead>\n",
       "  <tbody>\n",
       "    <tr>\n",
       "      <th>Austria</th>\n",
       "      <td>8772865</td>\n",
       "      <td>1230000</td>\n",
       "      <td>68.38</td>\n",
       "      <td>3.11</td>\n",
       "      <td>28.51</td>\n",
       "    </tr>\n",
       "    <tr>\n",
       "      <th>Belgium</th>\n",
       "      <td>11351727</td>\n",
       "      <td>1960000</td>\n",
       "      <td>75.06</td>\n",
       "      <td>1.09</td>\n",
       "      <td>23.85</td>\n",
       "    </tr>\n",
       "    <tr>\n",
       "      <th>Bulgaria</th>\n",
       "      <td>7101859</td>\n",
       "      <td>714688</td>\n",
       "      <td>26.67</td>\n",
       "      <td>0.80</td>\n",
       "      <td>72.53</td>\n",
       "    </tr>\n",
       "    <tr>\n",
       "      <th>Croatia</th>\n",
       "      <td>4154213</td>\n",
       "      <td>654655</td>\n",
       "      <td>49.92</td>\n",
       "      <td>4.60</td>\n",
       "      <td>45.48</td>\n",
       "    </tr>\n",
       "    <tr>\n",
       "      <th>Cyprus</th>\n",
       "      <td>854802</td>\n",
       "      <td>141566</td>\n",
       "      <td>65.88</td>\n",
       "      <td>4.53</td>\n",
       "      <td>29.59</td>\n",
       "    </tr>\n",
       "    <tr>\n",
       "      <th>Czech Republic</th>\n",
       "      <td>10578820</td>\n",
       "      <td>2340000</td>\n",
       "      <td>60.49</td>\n",
       "      <td>2.28</td>\n",
       "      <td>37.23</td>\n",
       "    </tr>\n",
       "    <tr>\n",
       "      <th>Denmark</th>\n",
       "      <td>5748769</td>\n",
       "      <td>568477</td>\n",
       "      <td>77.18</td>\n",
       "      <td>3.00</td>\n",
       "      <td>19.82</td>\n",
       "    </tr>\n",
       "    <tr>\n",
       "      <th>Estonia</th>\n",
       "      <td>1315635</td>\n",
       "      <td>228596</td>\n",
       "      <td>60.50</td>\n",
       "      <td>2.38</td>\n",
       "      <td>37.12</td>\n",
       "    </tr>\n",
       "    <tr>\n",
       "      <th>Finland</th>\n",
       "      <td>5503297</td>\n",
       "      <td>205357</td>\n",
       "      <td>73.56</td>\n",
       "      <td>4.29</td>\n",
       "      <td>22.15</td>\n",
       "    </tr>\n",
       "    <tr>\n",
       "      <th>France</th>\n",
       "      <td>66989083</td>\n",
       "      <td>8360000</td>\n",
       "      <td>70.80</td>\n",
       "      <td>6.28</td>\n",
       "      <td>22.92</td>\n",
       "    </tr>\n",
       "    <tr>\n",
       "      <th>Germany</th>\n",
       "      <td>82521653</td>\n",
       "      <td>6580000</td>\n",
       "      <td>68.99</td>\n",
       "      <td>3.01</td>\n",
       "      <td>28.00</td>\n",
       "    </tr>\n",
       "    <tr>\n",
       "      <th>Greece</th>\n",
       "      <td>10768193</td>\n",
       "      <td>1010000</td>\n",
       "      <td>65.21</td>\n",
       "      <td>4.74</td>\n",
       "      <td>30.05</td>\n",
       "    </tr>\n",
       "    <tr>\n",
       "      <th>Hungary</th>\n",
       "      <td>9797561</td>\n",
       "      <td>120000</td>\n",
       "      <td>61.17</td>\n",
       "      <td>3.03</td>\n",
       "      <td>35.80</td>\n",
       "    </tr>\n",
       "    <tr>\n",
       "      <th>Ireland</th>\n",
       "      <td>4904226</td>\n",
       "      <td>628306</td>\n",
       "      <td>76.43</td>\n",
       "      <td>1.23</td>\n",
       "      <td>22.34</td>\n",
       "    </tr>\n",
       "    <tr>\n",
       "      <th>Italy</th>\n",
       "      <td>60589445</td>\n",
       "      <td>5240000</td>\n",
       "      <td>73.37</td>\n",
       "      <td>5.53</td>\n",
       "      <td>21.10</td>\n",
       "    </tr>\n",
       "    <tr>\n",
       "      <th>Latvia</th>\n",
       "      <td>1950116</td>\n",
       "      <td>262215</td>\n",
       "      <td>65.78</td>\n",
       "      <td>3.36</td>\n",
       "      <td>30.86</td>\n",
       "    </tr>\n",
       "    <tr>\n",
       "      <th>Lithuania</th>\n",
       "      <td>2847904</td>\n",
       "      <td>491953</td>\n",
       "      <td>67.06</td>\n",
       "      <td>3.19</td>\n",
       "      <td>29.75</td>\n",
       "    </tr>\n",
       "    <tr>\n",
       "      <th>Luxembourg</th>\n",
       "      <td>590667</td>\n",
       "      <td>94300</td>\n",
       "      <td>67.69</td>\n",
       "      <td>2.51</td>\n",
       "      <td>29.80</td>\n",
       "    </tr>\n",
       "    <tr>\n",
       "      <th>Malta</th>\n",
       "      <td>467988</td>\n",
       "      <td>40624</td>\n",
       "      <td>84.08</td>\n",
       "      <td>0.58</td>\n",
       "      <td>15.34</td>\n",
       "    </tr>\n",
       "    <tr>\n",
       "      <th>Netherlands</th>\n",
       "      <td>17081507</td>\n",
       "      <td>2940000</td>\n",
       "      <td>74.37</td>\n",
       "      <td>2.93</td>\n",
       "      <td>22.70</td>\n",
       "    </tr>\n",
       "    <tr>\n",
       "      <th>Poland</th>\n",
       "      <td>37972964</td>\n",
       "      <td>3840000</td>\n",
       "      <td>54.73</td>\n",
       "      <td>1.29</td>\n",
       "      <td>43.98</td>\n",
       "    </tr>\n",
       "    <tr>\n",
       "      <th>Portugal</th>\n",
       "      <td>10309573</td>\n",
       "      <td>120000</td>\n",
       "      <td>88.81</td>\n",
       "      <td>0.21</td>\n",
       "      <td>10.98</td>\n",
       "    </tr>\n",
       "    <tr>\n",
       "      <th>Romania</th>\n",
       "      <td>19644350</td>\n",
       "      <td>1790000</td>\n",
       "      <td>39.88</td>\n",
       "      <td>1.43</td>\n",
       "      <td>58.69</td>\n",
       "    </tr>\n",
       "    <tr>\n",
       "      <th>Slovakia</th>\n",
       "      <td>5435343</td>\n",
       "      <td>1290000</td>\n",
       "      <td>43.32</td>\n",
       "      <td>5.69</td>\n",
       "      <td>50.99</td>\n",
       "    </tr>\n",
       "    <tr>\n",
       "      <th>Slovenia</th>\n",
       "      <td>2065895</td>\n",
       "      <td>440633</td>\n",
       "      <td>56.30</td>\n",
       "      <td>3.23</td>\n",
       "      <td>40.47</td>\n",
       "    </tr>\n",
       "    <tr>\n",
       "      <th>Spain</th>\n",
       "      <td>46528966</td>\n",
       "      <td>5340000</td>\n",
       "      <td>80.66</td>\n",
       "      <td>1.70</td>\n",
       "      <td>17.64</td>\n",
       "    </tr>\n",
       "    <tr>\n",
       "      <th>Sweden</th>\n",
       "      <td>9995153</td>\n",
       "      <td>1230000</td>\n",
       "      <td>71.46</td>\n",
       "      <td>3.96</td>\n",
       "      <td>24.58</td>\n",
       "    </tr>\n",
       "  </tbody>\n",
       "</table>\n",
       "</div>"
      ],
      "text/plain": [
       "                population  reported_cases  %fully_vaccinated  \\\n",
       "country                                                         \n",
       "Austria            8772865         1230000              68.38   \n",
       "Belgium           11351727         1960000              75.06   \n",
       "Bulgaria           7101859          714688              26.67   \n",
       "Croatia            4154213          654655              49.92   \n",
       "Cyprus              854802          141566              65.88   \n",
       "Czech Republic    10578820         2340000              60.49   \n",
       "Denmark            5748769          568477              77.18   \n",
       "Estonia            1315635          228596              60.50   \n",
       "Finland            5503297          205357              73.56   \n",
       "France            66989083         8360000              70.80   \n",
       "Germany           82521653         6580000              68.99   \n",
       "Greece            10768193         1010000              65.21   \n",
       "Hungary            9797561          120000              61.17   \n",
       "Ireland            4904226          628306              76.43   \n",
       "Italy             60589445         5240000              73.37   \n",
       "Latvia             1950116          262215              65.78   \n",
       "Lithuania          2847904          491953              67.06   \n",
       "Luxembourg          590667           94300              67.69   \n",
       "Malta               467988           40624              84.08   \n",
       "Netherlands       17081507         2940000              74.37   \n",
       "Poland            37972964         3840000              54.73   \n",
       "Portugal          10309573          120000              88.81   \n",
       "Romania           19644350         1790000              39.88   \n",
       "Slovakia           5435343         1290000              43.32   \n",
       "Slovenia           2065895          440633              56.30   \n",
       "Spain             46528966         5340000              80.66   \n",
       "Sweden             9995153         1230000              71.46   \n",
       "\n",
       "                %partially_vaccinated  %_unvaccinated  \n",
       "country                                                \n",
       "Austria                          3.11           28.51  \n",
       "Belgium                          1.09           23.85  \n",
       "Bulgaria                         0.80           72.53  \n",
       "Croatia                          4.60           45.48  \n",
       "Cyprus                           4.53           29.59  \n",
       "Czech Republic                   2.28           37.23  \n",
       "Denmark                          3.00           19.82  \n",
       "Estonia                          2.38           37.12  \n",
       "Finland                          4.29           22.15  \n",
       "France                           6.28           22.92  \n",
       "Germany                          3.01           28.00  \n",
       "Greece                           4.74           30.05  \n",
       "Hungary                          3.03           35.80  \n",
       "Ireland                          1.23           22.34  \n",
       "Italy                            5.53           21.10  \n",
       "Latvia                           3.36           30.86  \n",
       "Lithuania                        3.19           29.75  \n",
       "Luxembourg                       2.51           29.80  \n",
       "Malta                            0.58           15.34  \n",
       "Netherlands                      2.93           22.70  \n",
       "Poland                           1.29           43.98  \n",
       "Portugal                         0.21           10.98  \n",
       "Romania                          1.43           58.69  \n",
       "Slovakia                         5.69           50.99  \n",
       "Slovenia                         3.23           40.47  \n",
       "Spain                            1.70           17.64  \n",
       "Sweden                           3.96           24.58  "
      ]
     },
     "execution_count": 35,
     "metadata": {},
     "output_type": "execute_result"
    }
   ],
   "source": [
    "data = {'country':['Austria', 'Belgium', 'Bulgaria', 'Croatia', 'Cyprus', 'Czech Republic', 'Denmark',\n",
    "           'Estonia', 'Finland', 'France', 'Germany', 'Greece', 'Hungary', 'Ireland', 'Italy', 'Latvia',\n",
    "           'Lithuania', 'Luxembourg', 'Malta', 'Netherlands', 'Poland', 'Portugal', 'Romania', 'Slovakia',\n",
    "           'Slovenia', 'Spain', 'Sweden'],\n",
    "        'population':[8772865, 11351727, 7101859, 4154213, 854802, 10578820, 5748769, 1315635, 5503297, \n",
    "                      66989083, 82521653, 10768193, 9797561, 4904226, 60589445, 1950116, 2847904, 590667, \n",
    "                      467988, 17081507, 37972964, 10309573, 19644350, 5435343, 2065895, 46528966, 9995153],\n",
    "        'reported_cases':[1230000, 1960000, 714688, 654655, 141566, 2340000, 568477, 228596, 205357, 8360000, 6580000,\n",
    "                          1010000, 120000, 628306, 5240000, 262215, 491953, 94300, 40624, 2940000, 3840000, 120000, \n",
    "                         1790000, 1290000, 440633, 5340000, 1230000],\n",
    "        '%fully_vaccinated':[68.38, 75.06, 26.67, 49.92, 65.88, 60.49, 77.18, 60.50, 73.56, 70.80, 68.99, 65.21, \n",
    "                      61.17, 76.43, 73.37, 65.78, 67.06, 67.69, 84.08, 74.37, 54.73, 88.81, 39.88, 43.32,\n",
    "                      56.30, 80.66, 71.46],\n",
    "        '%partially_vaccinated':[3.11, 1.09, 0.80, 4.60, 4.53, 2.28, 3.00, 2.38, 4.29, 6.28, 3.01, 4.74, 3.03, 1.23,\n",
    "                                5.53, 3.36, 3.19, 2.51, 0.58, 2.93, 1.29, 0.21, 1.43, 5.69, 3.23, 1.70, 3.96],\n",
    "       '%_unvaccinated':[28.51, 23.85, 72.53, 45.48, 29.59, 37.23, 19.82, 37.12, 22.15, 22.92, 28.00, 30.05, \n",
    "                        35.80, 22.34, 21.10, 30.86, 29.75, 29.80, 15.34, 22.70, 43.98, 10.98, 58.69, 50.99, \n",
    "                        40.47, 17.64, 24.58]}\n",
    "\n",
    "df = pd.DataFrame(data)\n",
    "df.columns = ['country', 'population', 'reported_cases', '%fully_vaccinated', '%partially_vaccinated', '%_unvaccinated']\n",
    "df.set_index('country', inplace=True)\n",
    "df"
   ]
  },
  {
   "cell_type": "code",
   "execution_count": 36,
   "id": "5721a511",
   "metadata": {},
   "outputs": [],
   "source": [
    "df.to_csv('data/eu_vaccinations.csv')"
   ]
  },
  {
   "cell_type": "code",
   "execution_count": 37,
   "id": "6ce815e4",
   "metadata": {},
   "outputs": [
    {
     "data": {
      "text/plain": [
       "population                 int64\n",
       "reported_cases             int64\n",
       "%fully_vaccinated        float64\n",
       "%partially_vaccinated    float64\n",
       "%_unvaccinated           float64\n",
       "dtype: object"
      ]
     },
     "execution_count": 37,
     "metadata": {},
     "output_type": "execute_result"
    }
   ],
   "source": [
    "df.dtypes"
   ]
  },
  {
   "cell_type": "code",
   "execution_count": 38,
   "id": "3047a758",
   "metadata": {},
   "outputs": [
    {
     "data": {
      "text/plain": [
       "(27, 5)"
      ]
     },
     "execution_count": 38,
     "metadata": {},
     "output_type": "execute_result"
    }
   ],
   "source": [
    "df.shape"
   ]
  },
  {
   "cell_type": "code",
   "execution_count": 39,
   "id": "f7f1b92b",
   "metadata": {},
   "outputs": [
    {
     "data": {
      "text/plain": [
       "135"
      ]
     },
     "execution_count": 39,
     "metadata": {},
     "output_type": "execute_result"
    }
   ],
   "source": [
    "df.size"
   ]
  },
  {
   "cell_type": "code",
   "execution_count": 40,
   "id": "95eb0f0d",
   "metadata": {},
   "outputs": [
    {
     "data": {
      "text/html": [
       "<div>\n",
       "<style scoped>\n",
       "    .dataframe tbody tr th:only-of-type {\n",
       "        vertical-align: middle;\n",
       "    }\n",
       "\n",
       "    .dataframe tbody tr th {\n",
       "        vertical-align: top;\n",
       "    }\n",
       "\n",
       "    .dataframe thead th {\n",
       "        text-align: right;\n",
       "    }\n",
       "</style>\n",
       "<table border=\"1\" class=\"dataframe\">\n",
       "  <thead>\n",
       "    <tr style=\"text-align: right;\">\n",
       "      <th></th>\n",
       "      <th>population</th>\n",
       "      <th>reported_cases</th>\n",
       "      <th>%fully_vaccinated</th>\n",
       "      <th>%partially_vaccinated</th>\n",
       "      <th>%_unvaccinated</th>\n",
       "    </tr>\n",
       "  </thead>\n",
       "  <tbody>\n",
       "    <tr>\n",
       "      <th>count</th>\n",
       "      <td>2.700000e+01</td>\n",
       "      <td>2.700000e+01</td>\n",
       "      <td>27.000000</td>\n",
       "      <td>27.000000</td>\n",
       "      <td>27.000000</td>\n",
       "    </tr>\n",
       "    <tr>\n",
       "      <th>mean</th>\n",
       "      <td>1.651269e+07</td>\n",
       "      <td>1.772643e+06</td>\n",
       "      <td>65.472222</td>\n",
       "      <td>2.962222</td>\n",
       "      <td>31.565556</td>\n",
       "    </tr>\n",
       "    <tr>\n",
       "      <th>std</th>\n",
       "      <td>2.221456e+07</td>\n",
       "      <td>2.221006e+06</td>\n",
       "      <td>13.771741</td>\n",
       "      <td>1.624228</td>\n",
       "      <td>13.725404</td>\n",
       "    </tr>\n",
       "    <tr>\n",
       "      <th>min</th>\n",
       "      <td>4.679880e+05</td>\n",
       "      <td>4.062400e+04</td>\n",
       "      <td>26.670000</td>\n",
       "      <td>0.210000</td>\n",
       "      <td>10.980000</td>\n",
       "    </tr>\n",
       "    <tr>\n",
       "      <th>25%</th>\n",
       "      <td>3.501058e+06</td>\n",
       "      <td>2.454055e+05</td>\n",
       "      <td>60.495000</td>\n",
       "      <td>1.565000</td>\n",
       "      <td>22.520000</td>\n",
       "    </tr>\n",
       "    <tr>\n",
       "      <th>50%</th>\n",
       "      <td>8.772865e+06</td>\n",
       "      <td>7.146880e+05</td>\n",
       "      <td>67.690000</td>\n",
       "      <td>3.010000</td>\n",
       "      <td>29.590000</td>\n",
       "    </tr>\n",
       "    <tr>\n",
       "      <th>75%</th>\n",
       "      <td>1.421662e+07</td>\n",
       "      <td>2.150000e+06</td>\n",
       "      <td>73.965000</td>\n",
       "      <td>4.125000</td>\n",
       "      <td>37.175000</td>\n",
       "    </tr>\n",
       "    <tr>\n",
       "      <th>max</th>\n",
       "      <td>8.252165e+07</td>\n",
       "      <td>8.360000e+06</td>\n",
       "      <td>88.810000</td>\n",
       "      <td>6.280000</td>\n",
       "      <td>72.530000</td>\n",
       "    </tr>\n",
       "  </tbody>\n",
       "</table>\n",
       "</div>"
      ],
      "text/plain": [
       "         population  reported_cases  %fully_vaccinated  %partially_vaccinated  \\\n",
       "count  2.700000e+01    2.700000e+01          27.000000              27.000000   \n",
       "mean   1.651269e+07    1.772643e+06          65.472222               2.962222   \n",
       "std    2.221456e+07    2.221006e+06          13.771741               1.624228   \n",
       "min    4.679880e+05    4.062400e+04          26.670000               0.210000   \n",
       "25%    3.501058e+06    2.454055e+05          60.495000               1.565000   \n",
       "50%    8.772865e+06    7.146880e+05          67.690000               3.010000   \n",
       "75%    1.421662e+07    2.150000e+06          73.965000               4.125000   \n",
       "max    8.252165e+07    8.360000e+06          88.810000               6.280000   \n",
       "\n",
       "       %_unvaccinated  \n",
       "count       27.000000  \n",
       "mean        31.565556  \n",
       "std         13.725404  \n",
       "min         10.980000  \n",
       "25%         22.520000  \n",
       "50%         29.590000  \n",
       "75%         37.175000  \n",
       "max         72.530000  "
      ]
     },
     "execution_count": 40,
     "metadata": {},
     "output_type": "execute_result"
    }
   ],
   "source": [
    "df.describe()"
   ]
  },
  {
   "cell_type": "code",
   "execution_count": 41,
   "id": "4f6ba690",
   "metadata": {},
   "outputs": [
    {
     "data": {
      "text/html": [
       "<div>\n",
       "<style scoped>\n",
       "    .dataframe tbody tr th:only-of-type {\n",
       "        vertical-align: middle;\n",
       "    }\n",
       "\n",
       "    .dataframe tbody tr th {\n",
       "        vertical-align: top;\n",
       "    }\n",
       "\n",
       "    .dataframe thead th {\n",
       "        text-align: right;\n",
       "    }\n",
       "</style>\n",
       "<table border=\"1\" class=\"dataframe\">\n",
       "  <thead>\n",
       "    <tr style=\"text-align: right;\">\n",
       "      <th></th>\n",
       "      <th>population</th>\n",
       "      <th>reported_cases</th>\n",
       "      <th>%fully_vaccinated</th>\n",
       "      <th>%partially_vaccinated</th>\n",
       "      <th>%_unvaccinated</th>\n",
       "    </tr>\n",
       "    <tr>\n",
       "      <th>country</th>\n",
       "      <th></th>\n",
       "      <th></th>\n",
       "      <th></th>\n",
       "      <th></th>\n",
       "      <th></th>\n",
       "    </tr>\n",
       "  </thead>\n",
       "  <tbody>\n",
       "    <tr>\n",
       "      <th>Austria</th>\n",
       "      <td>8772865</td>\n",
       "      <td>1230000</td>\n",
       "      <td>68.38</td>\n",
       "      <td>3.11</td>\n",
       "      <td>28.51</td>\n",
       "    </tr>\n",
       "    <tr>\n",
       "      <th>Belgium</th>\n",
       "      <td>11351727</td>\n",
       "      <td>1960000</td>\n",
       "      <td>75.06</td>\n",
       "      <td>1.09</td>\n",
       "      <td>23.85</td>\n",
       "    </tr>\n",
       "    <tr>\n",
       "      <th>Bulgaria</th>\n",
       "      <td>7101859</td>\n",
       "      <td>714688</td>\n",
       "      <td>26.67</td>\n",
       "      <td>0.80</td>\n",
       "      <td>72.53</td>\n",
       "    </tr>\n",
       "    <tr>\n",
       "      <th>Croatia</th>\n",
       "      <td>4154213</td>\n",
       "      <td>654655</td>\n",
       "      <td>49.92</td>\n",
       "      <td>4.60</td>\n",
       "      <td>45.48</td>\n",
       "    </tr>\n",
       "    <tr>\n",
       "      <th>Cyprus</th>\n",
       "      <td>854802</td>\n",
       "      <td>141566</td>\n",
       "      <td>65.88</td>\n",
       "      <td>4.53</td>\n",
       "      <td>29.59</td>\n",
       "    </tr>\n",
       "  </tbody>\n",
       "</table>\n",
       "</div>"
      ],
      "text/plain": [
       "          population  reported_cases  %fully_vaccinated  \\\n",
       "country                                                   \n",
       "Austria      8772865         1230000              68.38   \n",
       "Belgium     11351727         1960000              75.06   \n",
       "Bulgaria     7101859          714688              26.67   \n",
       "Croatia      4154213          654655              49.92   \n",
       "Cyprus        854802          141566              65.88   \n",
       "\n",
       "          %partially_vaccinated  %_unvaccinated  \n",
       "country                                          \n",
       "Austria                    3.11           28.51  \n",
       "Belgium                    1.09           23.85  \n",
       "Bulgaria                   0.80           72.53  \n",
       "Croatia                    4.60           45.48  \n",
       "Cyprus                     4.53           29.59  "
      ]
     },
     "execution_count": 41,
     "metadata": {},
     "output_type": "execute_result"
    }
   ],
   "source": [
    "df.head()"
   ]
  },
  {
   "cell_type": "code",
   "execution_count": 42,
   "id": "85dcb471",
   "metadata": {},
   "outputs": [
    {
     "data": {
      "text/html": [
       "<div>\n",
       "<style scoped>\n",
       "    .dataframe tbody tr th:only-of-type {\n",
       "        vertical-align: middle;\n",
       "    }\n",
       "\n",
       "    .dataframe tbody tr th {\n",
       "        vertical-align: top;\n",
       "    }\n",
       "\n",
       "    .dataframe thead th {\n",
       "        text-align: right;\n",
       "    }\n",
       "</style>\n",
       "<table border=\"1\" class=\"dataframe\">\n",
       "  <thead>\n",
       "    <tr style=\"text-align: right;\">\n",
       "      <th></th>\n",
       "      <th>population</th>\n",
       "      <th>reported_cases</th>\n",
       "      <th>%fully_vaccinated</th>\n",
       "      <th>%partially_vaccinated</th>\n",
       "      <th>%_unvaccinated</th>\n",
       "    </tr>\n",
       "    <tr>\n",
       "      <th>country</th>\n",
       "      <th></th>\n",
       "      <th></th>\n",
       "      <th></th>\n",
       "      <th></th>\n",
       "      <th></th>\n",
       "    </tr>\n",
       "  </thead>\n",
       "  <tbody>\n",
       "    <tr>\n",
       "      <th>Romania</th>\n",
       "      <td>19644350</td>\n",
       "      <td>1790000</td>\n",
       "      <td>39.88</td>\n",
       "      <td>1.43</td>\n",
       "      <td>58.69</td>\n",
       "    </tr>\n",
       "    <tr>\n",
       "      <th>Slovakia</th>\n",
       "      <td>5435343</td>\n",
       "      <td>1290000</td>\n",
       "      <td>43.32</td>\n",
       "      <td>5.69</td>\n",
       "      <td>50.99</td>\n",
       "    </tr>\n",
       "    <tr>\n",
       "      <th>Slovenia</th>\n",
       "      <td>2065895</td>\n",
       "      <td>440633</td>\n",
       "      <td>56.30</td>\n",
       "      <td>3.23</td>\n",
       "      <td>40.47</td>\n",
       "    </tr>\n",
       "    <tr>\n",
       "      <th>Spain</th>\n",
       "      <td>46528966</td>\n",
       "      <td>5340000</td>\n",
       "      <td>80.66</td>\n",
       "      <td>1.70</td>\n",
       "      <td>17.64</td>\n",
       "    </tr>\n",
       "    <tr>\n",
       "      <th>Sweden</th>\n",
       "      <td>9995153</td>\n",
       "      <td>1230000</td>\n",
       "      <td>71.46</td>\n",
       "      <td>3.96</td>\n",
       "      <td>24.58</td>\n",
       "    </tr>\n",
       "  </tbody>\n",
       "</table>\n",
       "</div>"
      ],
      "text/plain": [
       "          population  reported_cases  %fully_vaccinated  \\\n",
       "country                                                   \n",
       "Romania     19644350         1790000              39.88   \n",
       "Slovakia     5435343         1290000              43.32   \n",
       "Slovenia     2065895          440633              56.30   \n",
       "Spain       46528966         5340000              80.66   \n",
       "Sweden       9995153         1230000              71.46   \n",
       "\n",
       "          %partially_vaccinated  %_unvaccinated  \n",
       "country                                          \n",
       "Romania                    1.43           58.69  \n",
       "Slovakia                   5.69           50.99  \n",
       "Slovenia                   3.23           40.47  \n",
       "Spain                      1.70           17.64  \n",
       "Sweden                     3.96           24.58  "
      ]
     },
     "execution_count": 42,
     "metadata": {},
     "output_type": "execute_result"
    }
   ],
   "source": [
    "df.tail()"
   ]
  },
  {
   "cell_type": "code",
   "execution_count": 43,
   "id": "07b39abb",
   "metadata": {},
   "outputs": [
    {
     "data": {
      "text/plain": [
       "population               467988.00\n",
       "reported_cases            40624.00\n",
       "%fully_vaccinated            26.67\n",
       "%partially_vaccinated         0.21\n",
       "%_unvaccinated               10.98\n",
       "dtype: float64"
      ]
     },
     "execution_count": 43,
     "metadata": {},
     "output_type": "execute_result"
    }
   ],
   "source": [
    "df.min()"
   ]
  },
  {
   "cell_type": "code",
   "execution_count": 44,
   "id": "d8b5637f",
   "metadata": {},
   "outputs": [
    {
     "data": {
      "text/plain": [
       "population               82521653.00\n",
       "reported_cases            8360000.00\n",
       "%fully_vaccinated              88.81\n",
       "%partially_vaccinated           6.28\n",
       "%_unvaccinated                 72.53\n",
       "dtype: float64"
      ]
     },
     "execution_count": 44,
     "metadata": {},
     "output_type": "execute_result"
    }
   ],
   "source": [
    "df.max()"
   ]
  },
  {
   "cell_type": "code",
   "execution_count": 45,
   "id": "24d1eee9",
   "metadata": {},
   "outputs": [
    {
     "data": {
      "text/plain": [
       "population               4904226.00\n",
       "reported_cases            628306.00\n",
       "%fully_vaccinated             76.43\n",
       "%partially_vaccinated          1.23\n",
       "%_unvaccinated                22.34\n",
       "Name: Ireland, dtype: float64"
      ]
     },
     "execution_count": 45,
     "metadata": {},
     "output_type": "execute_result"
    }
   ],
   "source": [
    "df.loc['Ireland']"
   ]
  },
  {
   "cell_type": "code",
   "execution_count": 46,
   "id": "aa07d9f9",
   "metadata": {},
   "outputs": [
    {
     "ename": "SyntaxError",
     "evalue": "invalid syntax (<ipython-input-46-814d30f986a2>, line 1)",
     "output_type": "error",
     "traceback": [
      "\u001b[1;36m  File \u001b[1;32m\"<ipython-input-46-814d30f986a2>\"\u001b[1;36m, line \u001b[1;32m1\u001b[0m\n\u001b[1;33m    df.query[]\u001b[0m\n\u001b[1;37m             ^\u001b[0m\n\u001b[1;31mSyntaxError\u001b[0m\u001b[1;31m:\u001b[0m invalid syntax\n"
     ]
    }
   ],
   "source": [
    "df.query[]"
   ]
  },
  {
   "cell_type": "markdown",
   "id": "194ca425",
   "metadata": {},
   "source": [
    "# References\n",
    "***\n",
    "All references and code used in this notebook has been sourced in Dec 2021 from the following webpages:\n",
    "\n",
    "\n",
    "- \n",
    "\n",
    "\n",
    "- \n",
    "\n"
   ]
  },
  {
   "cell_type": "markdown",
   "id": "609d8fc3",
   "metadata": {},
   "source": [
    "***\n",
    "# End"
   ]
  }
 ],
 "metadata": {
  "kernelspec": {
   "display_name": "Python 3",
   "language": "python",
   "name": "python3"
  },
  "language_info": {
   "codemirror_mode": {
    "name": "ipython",
    "version": 3
   },
   "file_extension": ".py",
   "mimetype": "text/x-python",
   "name": "python",
   "nbconvert_exporter": "python",
   "pygments_lexer": "ipython3",
   "version": "3.8.8"
  }
 },
 "nbformat": 4,
 "nbformat_minor": 5
}
